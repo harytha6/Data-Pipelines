{
 "cells": [
  {
   "cell_type": "code",
   "execution_count": 19,
   "id": "34e45845",
   "metadata": {},
   "outputs": [],
   "source": [
    "import pyodbc\n",
    "import pandas as pd\n",
    "import numpy as np"
   ]
  },
  {
   "cell_type": "code",
   "execution_count": 3,
   "id": "559e3348",
   "metadata": {},
   "outputs": [
    {
     "name": "stdout",
     "output_type": "stream",
     "text": [
      "('DESKTOP-1JQT5VC\\\\SQLEXPRESS01', )\n"
     ]
    }
   ],
   "source": [
    "try:\n",
    "    connection_string = pyodbc.connect('Driver={SQL Server};'\n",
    "                                   'Server=DESKTOP-1JQT5VC\\\\SQLEXPRESS01;'\n",
    "                                   'Database=sqltrial;'\n",
    "                                   'Trusted_Connection=yes;'\n",
    "                                  )\n",
    "    \n",
    "    connection_string.autocommit = True\n",
    "        \n",
    "    cursor=connection_string.cursor()\n",
    "except connection_string.Error as e: \n",
    "    print(\"Error: Could not make connection to the Sqltrial database\")\n",
    "    print(e)\n",
    "\n",
    "\n",
    "\n",
    "cursor.execute('SELECT @@SERVERNAME')\n",
    "\n",
    "for i in cursor : \n",
    "    print(i)"
   ]
  },
  {
   "cell_type": "markdown",
   "id": "e496bcea",
   "metadata": {},
   "source": [
    "Alternatively, can give servername as 'localhost\\SQLEXPRESS01'"
   ]
  },
  {
   "cell_type": "code",
   "execution_count": 4,
   "id": "ac67a326",
   "metadata": {},
   "outputs": [
    {
     "name": "stdout",
     "output_type": "stream",
     "text": [
      "('master', 1, datetime.datetime(2003, 4, 8, 9, 13, 36, 390000))\n",
      "('tempdb', 2, datetime.datetime(2023, 2, 5, 15, 48, 3, 693000))\n",
      "('model', 3, datetime.datetime(2003, 4, 8, 9, 13, 36, 390000))\n",
      "('msdb', 4, datetime.datetime(2022, 10, 8, 6, 31, 57, 550000))\n",
      "('sqltrial', 5, datetime.datetime(2023, 2, 5, 15, 54, 16, 243000))\n"
     ]
    }
   ],
   "source": [
    "try:\n",
    "    cursor.execute('SELECT name, database_id, create_date FROM sys.databases')\n",
    "    for i in cursor : \n",
    "        print(i)\n",
    "except cursor.Error as e: \n",
    "    print(\"Error: Could not get data from cursor connection\")\n",
    "    print(e)"
   ]
  },
  {
   "cell_type": "code",
   "execution_count": 5,
   "id": "c035f464",
   "metadata": {},
   "outputs": [
    {
     "name": "stderr",
     "output_type": "stream",
     "text": [
      "C:\\Users\\Vinoth\\AppData\\Local\\Temp\\ipykernel_10088\\8549416.py:2: UserWarning: pandas only supports SQLAlchemy connectable (engine/connection) or database string URI or sqlite3 DBAPI2 connection. Other DBAPI2 objects are not tested. Please consider using SQLAlchemy.\n",
      "  df = pd.read_sql_query('SELECT @@VERSION', connection_string)\n"
     ]
    }
   ],
   "source": [
    "## USING PANDAS\n",
    "df = pd.read_sql_query('SELECT @@VERSION', connection_string)"
   ]
  },
  {
   "cell_type": "code",
   "execution_count": 6,
   "id": "93a4d93f",
   "metadata": {},
   "outputs": [
    {
     "name": "stdout",
     "output_type": "stream",
     "text": [
      "('airline_data', 997578592, None, 1, 0, 'U ', 'USER_TABLE', datetime.datetime(2023, 2, 5, 16, 59, 14, 410000), datetime.datetime(2023, 2, 5, 17, 23, 16, 397000), False, False, False, 0, None, 11, False, True, False, False, False, False, False, 0, False, False, 0, 'TABLE', False, False, 0, 'SCHEMA_AND_DATA', 0, 'NON_TEMPORAL_TABLE', None, False, False, None, None, None, False, False, -1, -1, 'INFINITE', 0, 'NON_LEDGER_TABLE', None, False)\n"
     ]
    }
   ],
   "source": [
    "cursor.execute('SELECT * FROM sys.tables')\n",
    "for i in cursor : \n",
    "    print(i)"
   ]
  },
  {
   "cell_type": "code",
   "execution_count": 7,
   "id": "89f9b814",
   "metadata": {},
   "outputs": [],
   "source": [
    "data = pd.read_csv (r'E:\\Haritha\\Git Repos\\Flight-Price-Prediction\\Flight-Price-Prediction-Dataset\\Data_Train.csv')   \n",
    "df = pd.DataFrame(data)"
   ]
  },
  {
   "cell_type": "code",
   "execution_count": 8,
   "id": "76d60162",
   "metadata": {},
   "outputs": [
    {
     "name": "stdout",
     "output_type": "stream",
     "text": [
      "           airline date_of_Journey    source destination  \\\n",
      "0           IndiGo      24/03/2019  Banglore   New Delhi   \n",
      "1        Air India        1/5/2019   Kolkata    Banglore   \n",
      "2      Jet Airways        9/6/2019     Delhi      Cochin   \n",
      "3           IndiGo       12/5/2019   Kolkata    Banglore   \n",
      "4           IndiGo        1/3/2019  Banglore   New Delhi   \n",
      "...            ...             ...       ...         ...   \n",
      "10678     Air Asia        9/4/2019   Kolkata    Banglore   \n",
      "10679    Air India      27/04/2019   Kolkata    Banglore   \n",
      "10680  Jet Airways      27/04/2019  Banglore       Delhi   \n",
      "10681      Vistara        1/3/2019  Banglore   New Delhi   \n",
      "10682    Air India        9/5/2019     Delhi      Cochin   \n",
      "\n",
      "                       route dep_Time    arrival_Time duration total_Stops  \\\n",
      "0                  BLR ? DEL    22:20  3/22/2023 1:10   2h 50m    non-stop   \n",
      "1      CCU ? IXR ? BBI ? BLR     5:50           13:15   7h 25m     2 stops   \n",
      "2      DEL ? LKO ? BOM ? COK     9:25  6/10/2023 4:25      19h     2 stops   \n",
      "3            CCU ? NAG ? BLR    18:05           23:30   5h 25m      1 stop   \n",
      "4            BLR ? NAG ? DEL    16:50           21:35   4h 45m      1 stop   \n",
      "...                      ...      ...             ...      ...         ...   \n",
      "10678              CCU ? BLR    19:55           22:25   2h 30m    non-stop   \n",
      "10679              CCU ? BLR    20:45           23:20   2h 35m    non-stop   \n",
      "10680              BLR ? DEL     8:20           11:20       3h    non-stop   \n",
      "10681              BLR ? DEL    11:30           14:10   2h 40m    non-stop   \n",
      "10682  DEL ? GOI ? BOM ? COK    10:55           19:15   8h 20m     2 stops   \n",
      "\n",
      "      additional_Info  price  \n",
      "0             No info   3897  \n",
      "1             No info   7662  \n",
      "2             No info  13882  \n",
      "3             No info   6218  \n",
      "4             No info  13302  \n",
      "...               ...    ...  \n",
      "10678         No info   4107  \n",
      "10679         No info   4145  \n",
      "10680         No info   7229  \n",
      "10681         No info  12648  \n",
      "10682         No info  11753  \n",
      "\n",
      "[10683 rows x 11 columns]\n"
     ]
    }
   ],
   "source": [
    "print(df)"
   ]
  },
  {
   "cell_type": "code",
   "execution_count": 9,
   "id": "2f91345e",
   "metadata": {},
   "outputs": [
    {
     "data": {
      "text/html": [
       "<div>\n",
       "<style scoped>\n",
       "    .dataframe tbody tr th:only-of-type {\n",
       "        vertical-align: middle;\n",
       "    }\n",
       "\n",
       "    .dataframe tbody tr th {\n",
       "        vertical-align: top;\n",
       "    }\n",
       "\n",
       "    .dataframe thead th {\n",
       "        text-align: right;\n",
       "    }\n",
       "</style>\n",
       "<table border=\"1\" class=\"dataframe\">\n",
       "  <thead>\n",
       "    <tr style=\"text-align: right;\">\n",
       "      <th></th>\n",
       "      <th>airline</th>\n",
       "      <th>date_of_Journey</th>\n",
       "      <th>source</th>\n",
       "      <th>destination</th>\n",
       "      <th>route</th>\n",
       "      <th>dep_Time</th>\n",
       "      <th>arrival_Time</th>\n",
       "      <th>duration</th>\n",
       "      <th>total_Stops</th>\n",
       "      <th>additional_Info</th>\n",
       "      <th>price</th>\n",
       "    </tr>\n",
       "  </thead>\n",
       "  <tbody>\n",
       "    <tr>\n",
       "      <th>0</th>\n",
       "      <td>IndiGo</td>\n",
       "      <td>24/03/2019</td>\n",
       "      <td>Banglore</td>\n",
       "      <td>New Delhi</td>\n",
       "      <td>BLR ? DEL</td>\n",
       "      <td>22:20</td>\n",
       "      <td>3/22/2023 1:10</td>\n",
       "      <td>2h 50m</td>\n",
       "      <td>non-stop</td>\n",
       "      <td>No info</td>\n",
       "      <td>3897</td>\n",
       "    </tr>\n",
       "    <tr>\n",
       "      <th>1</th>\n",
       "      <td>Air India</td>\n",
       "      <td>1/5/2019</td>\n",
       "      <td>Kolkata</td>\n",
       "      <td>Banglore</td>\n",
       "      <td>CCU ? IXR ? BBI ? BLR</td>\n",
       "      <td>5:50</td>\n",
       "      <td>13:15</td>\n",
       "      <td>7h 25m</td>\n",
       "      <td>2 stops</td>\n",
       "      <td>No info</td>\n",
       "      <td>7662</td>\n",
       "    </tr>\n",
       "    <tr>\n",
       "      <th>2</th>\n",
       "      <td>Jet Airways</td>\n",
       "      <td>9/6/2019</td>\n",
       "      <td>Delhi</td>\n",
       "      <td>Cochin</td>\n",
       "      <td>DEL ? LKO ? BOM ? COK</td>\n",
       "      <td>9:25</td>\n",
       "      <td>6/10/2023 4:25</td>\n",
       "      <td>19h</td>\n",
       "      <td>2 stops</td>\n",
       "      <td>No info</td>\n",
       "      <td>13882</td>\n",
       "    </tr>\n",
       "    <tr>\n",
       "      <th>3</th>\n",
       "      <td>IndiGo</td>\n",
       "      <td>12/5/2019</td>\n",
       "      <td>Kolkata</td>\n",
       "      <td>Banglore</td>\n",
       "      <td>CCU ? NAG ? BLR</td>\n",
       "      <td>18:05</td>\n",
       "      <td>23:30</td>\n",
       "      <td>5h 25m</td>\n",
       "      <td>1 stop</td>\n",
       "      <td>No info</td>\n",
       "      <td>6218</td>\n",
       "    </tr>\n",
       "    <tr>\n",
       "      <th>4</th>\n",
       "      <td>IndiGo</td>\n",
       "      <td>1/3/2019</td>\n",
       "      <td>Banglore</td>\n",
       "      <td>New Delhi</td>\n",
       "      <td>BLR ? NAG ? DEL</td>\n",
       "      <td>16:50</td>\n",
       "      <td>21:35</td>\n",
       "      <td>4h 45m</td>\n",
       "      <td>1 stop</td>\n",
       "      <td>No info</td>\n",
       "      <td>13302</td>\n",
       "    </tr>\n",
       "  </tbody>\n",
       "</table>\n",
       "</div>"
      ],
      "text/plain": [
       "       airline date_of_Journey    source destination                  route  \\\n",
       "0       IndiGo      24/03/2019  Banglore   New Delhi              BLR ? DEL   \n",
       "1    Air India        1/5/2019   Kolkata    Banglore  CCU ? IXR ? BBI ? BLR   \n",
       "2  Jet Airways        9/6/2019     Delhi      Cochin  DEL ? LKO ? BOM ? COK   \n",
       "3       IndiGo       12/5/2019   Kolkata    Banglore        CCU ? NAG ? BLR   \n",
       "4       IndiGo        1/3/2019  Banglore   New Delhi        BLR ? NAG ? DEL   \n",
       "\n",
       "  dep_Time    arrival_Time duration total_Stops additional_Info  price  \n",
       "0    22:20  3/22/2023 1:10   2h 50m    non-stop         No info   3897  \n",
       "1     5:50           13:15   7h 25m     2 stops         No info   7662  \n",
       "2     9:25  6/10/2023 4:25      19h     2 stops         No info  13882  \n",
       "3    18:05           23:30   5h 25m      1 stop         No info   6218  \n",
       "4    16:50           21:35   4h 45m      1 stop         No info  13302  "
      ]
     },
     "execution_count": 9,
     "metadata": {},
     "output_type": "execute_result"
    }
   ],
   "source": [
    "df.head()"
   ]
  },
  {
   "cell_type": "code",
   "execution_count": 10,
   "id": "528dbf8f",
   "metadata": {},
   "outputs": [
    {
     "name": "stdout",
     "output_type": "stream",
     "text": [
      "<class 'pandas.core.frame.DataFrame'>\n",
      "RangeIndex: 10683 entries, 0 to 10682\n",
      "Data columns (total 11 columns):\n",
      " #   Column           Non-Null Count  Dtype \n",
      "---  ------           --------------  ----- \n",
      " 0   airline          10683 non-null  object\n",
      " 1   date_of_Journey  10683 non-null  object\n",
      " 2   source           10683 non-null  object\n",
      " 3   destination      10683 non-null  object\n",
      " 4   route            10682 non-null  object\n",
      " 5   dep_Time         10683 non-null  object\n",
      " 6   arrival_Time     10683 non-null  object\n",
      " 7   duration         10683 non-null  object\n",
      " 8   total_Stops      10682 non-null  object\n",
      " 9   additional_Info  10683 non-null  object\n",
      " 10  price            10683 non-null  int64 \n",
      "dtypes: int64(1), object(10)\n",
      "memory usage: 918.2+ KB\n"
     ]
    }
   ],
   "source": [
    "df.info()"
   ]
  },
  {
   "cell_type": "code",
   "execution_count": 11,
   "id": "b435acf0",
   "metadata": {},
   "outputs": [
    {
     "data": {
      "text/plain": [
       "<pyodbc.Cursor at 0x23f6955a9b0>"
      ]
     },
     "execution_count": 11,
     "metadata": {},
     "output_type": "execute_result"
    }
   ],
   "source": [
    "    cursor.execute(\n",
    "    '''\n",
    "    CREATE TABLE airline_data2(\n",
    "    airline varchar(50),\n",
    "    date_of_Journey varchar(50),\n",
    "    Source varchar(50),         \n",
    "    Destination varchar(50),    \n",
    "    Route varchar(50),         \n",
    "    Dep_Time varchar(50),   \n",
    "    Arrival_Time varchar(50),     \n",
    "    Duration varchar(50),       \n",
    "    Total_Stops varchar(50), \n",
    "    Additional_Info varchar(50),\n",
    "    price int)\n",
    "    '''\n",
    "    )\n"
   ]
  },
  {
   "cell_type": "code",
   "execution_count": 12,
   "id": "d6ccc13b",
   "metadata": {},
   "outputs": [
    {
     "name": "stdout",
     "output_type": "stream",
     "text": [
      "('sqltrial', )\n"
     ]
    }
   ],
   "source": [
    "cursor.execute('SELECT DB_NAME()')\n",
    "for i in cursor : \n",
    "    print(i)"
   ]
  },
  {
   "cell_type": "code",
   "execution_count": 13,
   "id": "0bd329d9",
   "metadata": {},
   "outputs": [],
   "source": [
    "cursor.execute('SELECT * FROM airline_data')\n",
    "for i in cursor : \n",
    "    print(i)"
   ]
  },
  {
   "cell_type": "code",
   "execution_count": 14,
   "id": "a0ead9c2",
   "metadata": {},
   "outputs": [
    {
     "name": "stdout",
     "output_type": "stream",
     "text": [
      "('sqltrial', 'dbo', 'airline_data', 'BASE TABLE')\n",
      "('sqltrial', 'dbo', 'airline_data2', 'BASE TABLE')\n"
     ]
    }
   ],
   "source": [
    "cursor.execute('SELECT * FROM INFORMATION_SCHEMA.TABLES ')\n",
    "for i in cursor : \n",
    "    print(i)"
   ]
  },
  {
   "cell_type": "code",
   "execution_count": 15,
   "id": "f827aeee",
   "metadata": {},
   "outputs": [
    {
     "data": {
      "text/plain": [
       "<pyodbc.Cursor at 0x23f6955a9b0>"
      ]
     },
     "execution_count": 15,
     "metadata": {},
     "output_type": "execute_result"
    }
   ],
   "source": [
    "cursor.execute('''\n",
    "EXEC sp_rename 'dbo.airline_data.Destination', 'destination', 'COLUMN' \n",
    "''')"
   ]
  },
  {
   "cell_type": "code",
   "execution_count": 20,
   "id": "1b2731cf",
   "metadata": {},
   "outputs": [],
   "source": [
    "df.replace({np.inf: np.nan, -np.inf: np.nan}, inplace=True)\n",
    "df = df.fillna(0)"
   ]
  },
  {
   "cell_type": "markdown",
   "id": "9d1fd0f0",
   "metadata": {},
   "source": [
    "The code above solves the error got below - \n",
    "\n",
    "ProgrammingError: ('42000', '[42000] [Microsoft][ODBC SQL Server Driver][SQL Server]The incoming tabular data stream (TDS) remote procedure call (RPC) protocol stream is incorrect. Parameter 8 (\"\"): The supplied value is not a valid instance of data type float. Check the source data for invalid values. An example of an invalid value is data of numeric type with scale greater than precision. (8023) (SQLExecDirectW)')"
   ]
  },
  {
   "cell_type": "code",
   "execution_count": 24,
   "id": "2c398842",
   "metadata": {},
   "outputs": [],
   "source": [
    "for row in df.itertuples():\n",
    "    cursor.execute('''\n",
    "                INSERT INTO airline_data2 (airline,date_of_Journey,Source,Destination,Route,Dep_Time,Arrival_Time,Duration,  \n",
    "    Total_Stops,Additional_Info,price)\n",
    "                VALUES (?,?,?,?,?,?,?,?,?,?,?)\n",
    "                ''',\n",
    "                row.airline,\n",
    "                row.date_of_Journey,\n",
    "                row.source,\n",
    "                row.destination,\n",
    "                row.route,\n",
    "                row.dep_Time,\n",
    "                row.arrival_Time,\n",
    "                row.duration,  \n",
    "                row.total_Stops,\n",
    "                row.additional_Info,\n",
    "                row.price\n",
    "                )"
   ]
  },
  {
   "cell_type": "code",
   "execution_count": 25,
   "id": "f7197ec3",
   "metadata": {},
   "outputs": [
    {
     "data": {
      "text/plain": [
       "<pyodbc.Cursor at 0x23f6955a9b0>"
      ]
     },
     "execution_count": 25,
     "metadata": {},
     "output_type": "execute_result"
    }
   ],
   "source": [
    "#cursor.execute('DELETE FROM airline_data')"
   ]
  },
  {
   "cell_type": "code",
   "execution_count": 34,
   "id": "ec473506",
   "metadata": {},
   "outputs": [],
   "source": [
    "# To select only certain rows from the csv file \n",
    "# Use skiprows to choose starting point and nrows to choose number of rows\n",
    "infile = r'E:\\Haritha\\Git Repos\\Flight-Price-Prediction\\Flight-Price-Prediction-Dataset\\Data_Train.csv'\n",
    "df_somerows = pd.read_csv(infile, header=0, skiprows = range(1,1000), nrows=2000)"
   ]
  },
  {
   "cell_type": "code",
   "execution_count": 36,
   "id": "be5012a7",
   "metadata": {},
   "outputs": [],
   "source": [
    "df_somerows.replace({np.inf: np.nan, -np.inf: np.nan}, inplace=True)\n",
    "df_somerows = df_somerows.fillna(0)"
   ]
  },
  {
   "cell_type": "code",
   "execution_count": 37,
   "id": "a4552872",
   "metadata": {},
   "outputs": [
    {
     "data": {
      "text/html": [
       "<div>\n",
       "<style scoped>\n",
       "    .dataframe tbody tr th:only-of-type {\n",
       "        vertical-align: middle;\n",
       "    }\n",
       "\n",
       "    .dataframe tbody tr th {\n",
       "        vertical-align: top;\n",
       "    }\n",
       "\n",
       "    .dataframe thead th {\n",
       "        text-align: right;\n",
       "    }\n",
       "</style>\n",
       "<table border=\"1\" class=\"dataframe\">\n",
       "  <thead>\n",
       "    <tr style=\"text-align: right;\">\n",
       "      <th></th>\n",
       "      <th>airline</th>\n",
       "      <th>date_of_Journey</th>\n",
       "      <th>source</th>\n",
       "      <th>destination</th>\n",
       "      <th>route</th>\n",
       "      <th>dep_Time</th>\n",
       "      <th>arrival_Time</th>\n",
       "      <th>duration</th>\n",
       "      <th>total_Stops</th>\n",
       "      <th>additional_Info</th>\n",
       "      <th>price</th>\n",
       "    </tr>\n",
       "  </thead>\n",
       "  <tbody>\n",
       "    <tr>\n",
       "      <th>0</th>\n",
       "      <td>Jet Airways</td>\n",
       "      <td>24/05/2019</td>\n",
       "      <td>Kolkata</td>\n",
       "      <td>Banglore</td>\n",
       "      <td>CCU ? BOM ? BLR</td>\n",
       "      <td>21:10</td>\n",
       "      <td>5/25/2023 4:40</td>\n",
       "      <td>7h 30m</td>\n",
       "      <td>1 stop</td>\n",
       "      <td>In-flight meal not included</td>\n",
       "      <td>9663</td>\n",
       "    </tr>\n",
       "    <tr>\n",
       "      <th>1</th>\n",
       "      <td>IndiGo</td>\n",
       "      <td>21/03/2019</td>\n",
       "      <td>Delhi</td>\n",
       "      <td>Cochin</td>\n",
       "      <td>DEL ? BOM ? COK</td>\n",
       "      <td>18:35</td>\n",
       "      <td>3/22/2023 1:35</td>\n",
       "      <td>7h</td>\n",
       "      <td>1 stop</td>\n",
       "      <td>No info</td>\n",
       "      <td>9264</td>\n",
       "    </tr>\n",
       "    <tr>\n",
       "      <th>2</th>\n",
       "      <td>SpiceJet</td>\n",
       "      <td>15/05/2019</td>\n",
       "      <td>Chennai</td>\n",
       "      <td>Kolkata</td>\n",
       "      <td>MAA ? CCU</td>\n",
       "      <td>9:45</td>\n",
       "      <td>12:00</td>\n",
       "      <td>2h 15m</td>\n",
       "      <td>non-stop</td>\n",
       "      <td>No info</td>\n",
       "      <td>3597</td>\n",
       "    </tr>\n",
       "    <tr>\n",
       "      <th>3</th>\n",
       "      <td>IndiGo</td>\n",
       "      <td>24/06/2019</td>\n",
       "      <td>Delhi</td>\n",
       "      <td>Cochin</td>\n",
       "      <td>DEL ? HYD ? COK</td>\n",
       "      <td>5:05</td>\n",
       "      <td>12:10</td>\n",
       "      <td>7h 5m</td>\n",
       "      <td>1 stop</td>\n",
       "      <td>No info</td>\n",
       "      <td>6442</td>\n",
       "    </tr>\n",
       "    <tr>\n",
       "      <th>4</th>\n",
       "      <td>Multiple carriers</td>\n",
       "      <td>9/5/2019</td>\n",
       "      <td>Delhi</td>\n",
       "      <td>Cochin</td>\n",
       "      <td>DEL ? BOM ? COK</td>\n",
       "      <td>17:30</td>\n",
       "      <td>5/10/2023 1:30</td>\n",
       "      <td>8h</td>\n",
       "      <td>1 stop</td>\n",
       "      <td>No info</td>\n",
       "      <td>15078</td>\n",
       "    </tr>\n",
       "  </tbody>\n",
       "</table>\n",
       "</div>"
      ],
      "text/plain": [
       "             airline date_of_Journey   source destination            route  \\\n",
       "0        Jet Airways      24/05/2019  Kolkata    Banglore  CCU ? BOM ? BLR   \n",
       "1             IndiGo      21/03/2019    Delhi      Cochin  DEL ? BOM ? COK   \n",
       "2           SpiceJet      15/05/2019  Chennai     Kolkata        MAA ? CCU   \n",
       "3             IndiGo      24/06/2019    Delhi      Cochin  DEL ? HYD ? COK   \n",
       "4  Multiple carriers        9/5/2019    Delhi      Cochin  DEL ? BOM ? COK   \n",
       "\n",
       "  dep_Time    arrival_Time duration total_Stops              additional_Info  \\\n",
       "0    21:10  5/25/2023 4:40   7h 30m      1 stop  In-flight meal not included   \n",
       "1    18:35  3/22/2023 1:35       7h      1 stop                      No info   \n",
       "2     9:45           12:00   2h 15m    non-stop                      No info   \n",
       "3     5:05           12:10    7h 5m      1 stop                      No info   \n",
       "4    17:30  5/10/2023 1:30       8h      1 stop                      No info   \n",
       "\n",
       "   price  \n",
       "0   9663  \n",
       "1   9264  \n",
       "2   3597  \n",
       "3   6442  \n",
       "4  15078  "
      ]
     },
     "execution_count": 37,
     "metadata": {},
     "output_type": "execute_result"
    }
   ],
   "source": [
    "df_somerows.head()"
   ]
  },
  {
   "cell_type": "code",
   "execution_count": 40,
   "id": "6513749e",
   "metadata": {},
   "outputs": [
    {
     "data": {
      "text/plain": [
       "(2000, 11)"
      ]
     },
     "execution_count": 40,
     "metadata": {},
     "output_type": "execute_result"
    }
   ],
   "source": [
    "df_somerows.shape"
   ]
  },
  {
   "cell_type": "code",
   "execution_count": 41,
   "id": "06c856a3",
   "metadata": {},
   "outputs": [
    {
     "data": {
      "text/html": [
       "<div>\n",
       "<style scoped>\n",
       "    .dataframe tbody tr th:only-of-type {\n",
       "        vertical-align: middle;\n",
       "    }\n",
       "\n",
       "    .dataframe tbody tr th {\n",
       "        vertical-align: top;\n",
       "    }\n",
       "\n",
       "    .dataframe thead th {\n",
       "        text-align: right;\n",
       "    }\n",
       "</style>\n",
       "<table border=\"1\" class=\"dataframe\">\n",
       "  <thead>\n",
       "    <tr style=\"text-align: right;\">\n",
       "      <th></th>\n",
       "      <th>airline</th>\n",
       "      <th>date_of_Journey</th>\n",
       "      <th>source</th>\n",
       "      <th>destination</th>\n",
       "      <th>route</th>\n",
       "      <th>dep_Time</th>\n",
       "      <th>arrival_Time</th>\n",
       "      <th>duration</th>\n",
       "      <th>total_Stops</th>\n",
       "      <th>additional_Info</th>\n",
       "      <th>price</th>\n",
       "    </tr>\n",
       "  </thead>\n",
       "  <tbody>\n",
       "    <tr>\n",
       "      <th>1995</th>\n",
       "      <td>Air India</td>\n",
       "      <td>24/03/2019</td>\n",
       "      <td>Delhi</td>\n",
       "      <td>Cochin</td>\n",
       "      <td>DEL ? BOM ? COK</td>\n",
       "      <td>4:00</td>\n",
       "      <td>3/25/2023 7:40</td>\n",
       "      <td>27h 40m</td>\n",
       "      <td>1 stop</td>\n",
       "      <td>No info</td>\n",
       "      <td>8635</td>\n",
       "    </tr>\n",
       "    <tr>\n",
       "      <th>1996</th>\n",
       "      <td>Jet Airways</td>\n",
       "      <td>27/06/2019</td>\n",
       "      <td>Delhi</td>\n",
       "      <td>Cochin</td>\n",
       "      <td>DEL ? BOM ? COK</td>\n",
       "      <td>9:00</td>\n",
       "      <td>19:00</td>\n",
       "      <td>10h</td>\n",
       "      <td>1 stop</td>\n",
       "      <td>No info</td>\n",
       "      <td>14714</td>\n",
       "    </tr>\n",
       "    <tr>\n",
       "      <th>1997</th>\n",
       "      <td>Jet Airways</td>\n",
       "      <td>18/05/2019</td>\n",
       "      <td>Kolkata</td>\n",
       "      <td>Banglore</td>\n",
       "      <td>CCU ? DEL ? BLR</td>\n",
       "      <td>20:25</td>\n",
       "      <td>5/19/2023 19:10</td>\n",
       "      <td>22h 45m</td>\n",
       "      <td>1 stop</td>\n",
       "      <td>No info</td>\n",
       "      <td>14151</td>\n",
       "    </tr>\n",
       "    <tr>\n",
       "      <th>1998</th>\n",
       "      <td>Multiple carriers</td>\n",
       "      <td>1/6/2019</td>\n",
       "      <td>Delhi</td>\n",
       "      <td>Cochin</td>\n",
       "      <td>DEL ? BOM ? COK</td>\n",
       "      <td>4:55</td>\n",
       "      <td>19:15</td>\n",
       "      <td>14h 20m</td>\n",
       "      <td>1 stop</td>\n",
       "      <td>No info</td>\n",
       "      <td>8835</td>\n",
       "    </tr>\n",
       "    <tr>\n",
       "      <th>1999</th>\n",
       "      <td>Air India</td>\n",
       "      <td>21/05/2019</td>\n",
       "      <td>Kolkata</td>\n",
       "      <td>Banglore</td>\n",
       "      <td>CCU ? DEL ? BLR</td>\n",
       "      <td>17:30</td>\n",
       "      <td>5/22/2023 8:55</td>\n",
       "      <td>15h 25m</td>\n",
       "      <td>1 stop</td>\n",
       "      <td>No info</td>\n",
       "      <td>11936</td>\n",
       "    </tr>\n",
       "  </tbody>\n",
       "</table>\n",
       "</div>"
      ],
      "text/plain": [
       "                airline date_of_Journey   source destination            route  \\\n",
       "1995          Air India      24/03/2019    Delhi      Cochin  DEL ? BOM ? COK   \n",
       "1996        Jet Airways      27/06/2019    Delhi      Cochin  DEL ? BOM ? COK   \n",
       "1997        Jet Airways      18/05/2019  Kolkata    Banglore  CCU ? DEL ? BLR   \n",
       "1998  Multiple carriers        1/6/2019    Delhi      Cochin  DEL ? BOM ? COK   \n",
       "1999          Air India      21/05/2019  Kolkata    Banglore  CCU ? DEL ? BLR   \n",
       "\n",
       "     dep_Time     arrival_Time duration total_Stops additional_Info  price  \n",
       "1995     4:00   3/25/2023 7:40  27h 40m      1 stop         No info   8635  \n",
       "1996     9:00            19:00      10h      1 stop         No info  14714  \n",
       "1997    20:25  5/19/2023 19:10  22h 45m      1 stop         No info  14151  \n",
       "1998     4:55            19:15  14h 20m      1 stop         No info   8835  \n",
       "1999    17:30   5/22/2023 8:55  15h 25m      1 stop         No info  11936  "
      ]
     },
     "execution_count": 41,
     "metadata": {},
     "output_type": "execute_result"
    }
   ],
   "source": [
    "df_somerows.tail()"
   ]
  },
  {
   "cell_type": "code",
   "execution_count": 38,
   "id": "5b8082a3",
   "metadata": {},
   "outputs": [],
   "source": [
    "for row in df_somerows.itertuples():\n",
    "    cursor.execute('''\n",
    "                INSERT INTO airline_data (airline,date_of_Journey,source,destination,Route,Dep_Time,Arrival_Time,Duration,  \n",
    "    Total_Stops,Additional_Info,price)\n",
    "                VALUES (?,?,?,?,?,?,?,?,?,?,?)\n",
    "                ''',\n",
    "                row.airline,\n",
    "                row.date_of_Journey,\n",
    "                row.source,\n",
    "                row.destination,\n",
    "                row.route,\n",
    "                row.dep_Time,\n",
    "                row.arrival_Time,\n",
    "                row.duration,  \n",
    "                row.total_Stops,\n",
    "                row.additional_Info,\n",
    "                row.price\n",
    "                )"
   ]
  },
  {
   "cell_type": "code",
   "execution_count": 42,
   "id": "88591dc0",
   "metadata": {},
   "outputs": [],
   "source": [
    "cursor.close()"
   ]
  },
  {
   "cell_type": "code",
   "execution_count": 43,
   "id": "8c7bef0a",
   "metadata": {},
   "outputs": [],
   "source": [
    "connection_string.close()"
   ]
  },
  {
   "cell_type": "code",
   "execution_count": null,
   "id": "2e223913",
   "metadata": {},
   "outputs": [],
   "source": []
  }
 ],
 "metadata": {
  "kernelspec": {
   "display_name": "Python 3 (ipykernel)",
   "language": "python",
   "name": "python3"
  },
  "language_info": {
   "codemirror_mode": {
    "name": "ipython",
    "version": 3
   },
   "file_extension": ".py",
   "mimetype": "text/x-python",
   "name": "python",
   "nbconvert_exporter": "python",
   "pygments_lexer": "ipython3",
   "version": "3.11.1"
  }
 },
 "nbformat": 4,
 "nbformat_minor": 5
}
